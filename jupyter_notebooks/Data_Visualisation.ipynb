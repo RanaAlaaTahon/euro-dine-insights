{
 "cells": [
  {
   "cell_type": "markdown",
   "id": "583b450f",
   "metadata": {},
   "source": [
    "# **Data Visualization**"
   ]
  },
  {
   "cell_type": "markdown",
   "id": "8b0220af",
   "metadata": {},
   "source": [
    "# Objectives\n",
    "Explore and visualize restaurant data across 31 European cities to uncover patterns and insights related to cuisine, ratings, rankings, pricing, and customer engagement. Through interactive visualizations and descriptive analysis, we aim to:\n",
    "\n",
    "- Understand the distribution and popularity of different cuisine styles across cities.\n",
    "\n",
    "- Analyze the relationship between restaurant rankings, ratings, and number of reviews.\n",
    "\n",
    "- Examine how price ranges correlate with ratings and cuisine and city.\n",
    "\n",
    "These insights can be useful for tourists, restaurant owners, and analysts seeking to better understand the European restaurant landscape."
   ]
  },
  {
   "cell_type": "markdown",
   "id": "5bef08ea",
   "metadata": {},
   "source": [
    "# Input\n",
    "* The input can be found [here](../data_set/processed/TA_restaurants_cleaned.csv)\n",
    "* This is a csv file contained the cleaned data outputted by the ETL process."
   ]
  },
  {
   "cell_type": "markdown",
   "id": "ee163152",
   "metadata": {},
   "source": [
    "# Outputs\n",
    "\n",
    "- All the visualizations have been saved as PNG files and are stored in a designated folder for easy access and reference, which can be found [here](../Images)."
   ]
  },
  {
   "cell_type": "markdown",
   "id": "a1493f5c",
   "metadata": {},
   "source": [
    "---"
   ]
  },
  {
   "cell_type": "markdown",
   "id": "3589f929",
   "metadata": {},
   "source": [
    "# Change working directory\n",
    "Change the working directory from its current folder to its parent folder as the notebooks will be stored in a subfolder\n",
    "* We access the current directory with os.getcwd()"
   ]
  },
  {
   "cell_type": "code",
   "execution_count": 1,
   "id": "b87f7593",
   "metadata": {},
   "outputs": [
    {
     "data": {
      "text/plain": [
       "'c:\\\\Users\\\\amron\\\\Desktop\\\\euro-dine-insights\\\\jupyter_notebooks'"
      ]
     },
     "execution_count": 1,
     "metadata": {},
     "output_type": "execute_result"
    }
   ],
   "source": [
    "import os\n",
    "current_dir = os.getcwd()\n",
    "current_dir"
   ]
  },
  {
   "cell_type": "markdown",
   "id": "d39427e0",
   "metadata": {},
   "source": [
    "Make the parent of the current directory the new current directory\n",
    "* os.path.dirname() gets the parent directory\n",
    "* os.chir() defines the new current directory"
   ]
  },
  {
   "cell_type": "code",
   "execution_count": 2,
   "id": "762db310",
   "metadata": {},
   "outputs": [
    {
     "name": "stdout",
     "output_type": "stream",
     "text": [
      "You set a new current directory\n"
     ]
    }
   ],
   "source": [
    "os.chdir(os.path.dirname(current_dir))\n",
    "print(\"You set a new current directory\")"
   ]
  },
  {
   "cell_type": "markdown",
   "id": "9f60dfeb",
   "metadata": {},
   "source": [
    "Confirm the new current directory"
   ]
  },
  {
   "cell_type": "code",
   "execution_count": 3,
   "id": "6a3d708a",
   "metadata": {},
   "outputs": [
    {
     "data": {
      "text/plain": [
       "'c:\\\\Users\\\\amron\\\\Desktop\\\\euro-dine-insights'"
      ]
     },
     "execution_count": 3,
     "metadata": {},
     "output_type": "execute_result"
    }
   ],
   "source": [
    "current_dir = os.getcwd()\n",
    "current_dir"
   ]
  },
  {
   "cell_type": "markdown",
   "id": "965f4fc9",
   "metadata": {},
   "source": [
    "Changing path directory to the dataset"
   ]
  },
  {
   "cell_type": "code",
   "execution_count": 4,
   "id": "6cd304a7",
   "metadata": {},
   "outputs": [],
   "source": [
    "#path directory\n",
    "raw_data_dir = os.path.join(current_dir, 'data_set/raw') \n",
    "\n",
    "#path directory\n",
    "processed_data_dir = os.path.join(current_dir, 'data_set/processed') \n"
   ]
  },
  {
   "cell_type": "markdown",
   "id": "787b2aae",
   "metadata": {},
   "source": [
    "---"
   ]
  },
  {
   "cell_type": "markdown",
   "id": "c6833d33",
   "metadata": {},
   "source": [
    "# Import packages"
   ]
  },
  {
   "cell_type": "code",
   "execution_count": 5,
   "id": "ea83c9bf",
   "metadata": {},
   "outputs": [],
   "source": [
    "import pandas as pd # Import pandas\n",
    "import matplotlib.pyplot as plt # Import matplotlib\n",
    "import seaborn as sns # Import seaborn\n",
    "import plotly.express as px # Import plotly\n",
    "sns.set_style('whitegrid') # Set style for visuals"
   ]
  },
  {
   "cell_type": "markdown",
   "id": "5fda4579",
   "metadata": {},
   "source": [
    "---"
   ]
  },
  {
   "cell_type": "markdown",
   "id": "014824d8",
   "metadata": {},
   "source": [
    "# Load the cleaned dataset"
   ]
  },
  {
   "cell_type": "code",
   "execution_count": 6,
   "id": "977b1f02",
   "metadata": {},
   "outputs": [
    {
     "data": {
      "text/html": [
       "<div>\n",
       "<style scoped>\n",
       "    .dataframe tbody tr th:only-of-type {\n",
       "        vertical-align: middle;\n",
       "    }\n",
       "\n",
       "    .dataframe tbody tr th {\n",
       "        vertical-align: top;\n",
       "    }\n",
       "\n",
       "    .dataframe thead th {\n",
       "        text-align: right;\n",
       "    }\n",
       "</style>\n",
       "<table border=\"1\" class=\"dataframe\">\n",
       "  <thead>\n",
       "    <tr style=\"text-align: right;\">\n",
       "      <th></th>\n",
       "      <th>Name</th>\n",
       "      <th>City</th>\n",
       "      <th>Cuisine</th>\n",
       "      <th>Ranking</th>\n",
       "      <th>Rating</th>\n",
       "      <th>Price_Range</th>\n",
       "      <th>Number_of_Reviews</th>\n",
       "      <th>Cuisine_Counts</th>\n",
       "      <th>Country_Name</th>\n",
       "    </tr>\n",
       "  </thead>\n",
       "  <tbody>\n",
       "    <tr>\n",
       "      <th>0</th>\n",
       "      <td>Martine of Martine's Table</td>\n",
       "      <td>Amsterdam</td>\n",
       "      <td>['French', 'Dutch', 'European']</td>\n",
       "      <td>1.0</td>\n",
       "      <td>5.0</td>\n",
       "      <td>$$ - $$$</td>\n",
       "      <td>136</td>\n",
       "      <td>3</td>\n",
       "      <td>Netherlands</td>\n",
       "    </tr>\n",
       "    <tr>\n",
       "      <th>1</th>\n",
       "      <td>De Silveren Spiegel</td>\n",
       "      <td>Amsterdam</td>\n",
       "      <td>['Dutch', 'European', 'Vegetarian Friendly', '...</td>\n",
       "      <td>2.0</td>\n",
       "      <td>4.5</td>\n",
       "      <td>$$$$</td>\n",
       "      <td>812</td>\n",
       "      <td>4</td>\n",
       "      <td>Netherlands</td>\n",
       "    </tr>\n",
       "    <tr>\n",
       "      <th>2</th>\n",
       "      <td>La Rive</td>\n",
       "      <td>Amsterdam</td>\n",
       "      <td>['Mediterranean', 'French', 'International', '...</td>\n",
       "      <td>3.0</td>\n",
       "      <td>4.5</td>\n",
       "      <td>$$$$</td>\n",
       "      <td>567</td>\n",
       "      <td>6</td>\n",
       "      <td>Netherlands</td>\n",
       "    </tr>\n",
       "    <tr>\n",
       "      <th>3</th>\n",
       "      <td>Vinkeles</td>\n",
       "      <td>Amsterdam</td>\n",
       "      <td>['French', 'European', 'International', 'Conte...</td>\n",
       "      <td>4.0</td>\n",
       "      <td>5.0</td>\n",
       "      <td>$$$$</td>\n",
       "      <td>564</td>\n",
       "      <td>7</td>\n",
       "      <td>Netherlands</td>\n",
       "    </tr>\n",
       "    <tr>\n",
       "      <th>4</th>\n",
       "      <td>Librije's Zusje Amsterdam</td>\n",
       "      <td>Amsterdam</td>\n",
       "      <td>['Dutch', 'European', 'International', 'Vegeta...</td>\n",
       "      <td>5.0</td>\n",
       "      <td>4.5</td>\n",
       "      <td>$$$$</td>\n",
       "      <td>316</td>\n",
       "      <td>6</td>\n",
       "      <td>Netherlands</td>\n",
       "    </tr>\n",
       "  </tbody>\n",
       "</table>\n",
       "</div>"
      ],
      "text/plain": [
       "                         Name       City  \\\n",
       "0  Martine of Martine's Table  Amsterdam   \n",
       "1         De Silveren Spiegel  Amsterdam   \n",
       "2                     La Rive  Amsterdam   \n",
       "3                    Vinkeles  Amsterdam   \n",
       "4   Librije's Zusje Amsterdam  Amsterdam   \n",
       "\n",
       "                                             Cuisine  Ranking  Rating  \\\n",
       "0                    ['French', 'Dutch', 'European']      1.0     5.0   \n",
       "1  ['Dutch', 'European', 'Vegetarian Friendly', '...      2.0     4.5   \n",
       "2  ['Mediterranean', 'French', 'International', '...      3.0     4.5   \n",
       "3  ['French', 'European', 'International', 'Conte...      4.0     5.0   \n",
       "4  ['Dutch', 'European', 'International', 'Vegeta...      5.0     4.5   \n",
       "\n",
       "  Price_Range  Number_of_Reviews  Cuisine_Counts Country_Name  \n",
       "0    $$ - $$$                136               3  Netherlands  \n",
       "1        $$$$                812               4  Netherlands  \n",
       "2        $$$$                567               6  Netherlands  \n",
       "3        $$$$                564               7  Netherlands  \n",
       "4        $$$$                316               6  Netherlands  "
      ]
     },
     "execution_count": 6,
     "metadata": {},
     "output_type": "execute_result"
    }
   ],
   "source": [
    "#load the cleaned dataset\n",
    "df = pd.read_csv(os.path.join(processed_data_dir, 'TA_restaurants_cleaned.csv'))\n",
    "\n",
    "#display first 5 rows of data\n",
    "df.head() "
   ]
  },
  {
   "cell_type": "markdown",
   "id": "bfd509c1",
   "metadata": {},
   "source": [
    "---"
   ]
  },
  {
   "cell_type": "markdown",
   "id": "b1a0cba2",
   "metadata": {},
   "source": [
    "# Price Perception\n",
    "Investigates whether restaurants with higher prices are more likely to achieve better ratings. The analysis will use two key variables: Price Range (grouped into low, medium, and high) and Rating (1–5 scale)."
   ]
  },
  {
   "cell_type": "code",
   "execution_count": 7,
   "id": "9b38ddb7",
   "metadata": {},
   "outputs": [],
   "source": [
    "#copy the dataframe to avoid any changes to the original dataframe\n",
    "df_price = df.copy()"
   ]
  },
  {
   "cell_type": "code",
   "execution_count": 8,
   "id": "493a4d85",
   "metadata": {},
   "outputs": [
    {
     "data": {
      "text/plain": [
       "Price_Range\n",
       "$$ - $$$    52507\n",
       "$           17639\n",
       "$$$$         4075\n",
       "Name: count, dtype: int64"
      ]
     },
     "execution_count": 8,
     "metadata": {},
     "output_type": "execute_result"
    }
   ],
   "source": [
    "#how many restaurants are in each price range\n",
    "df_price['Price_Range'].value_counts()"
   ]
  },
  {
   "cell_type": "markdown",
   "id": "ad643b47",
   "metadata": {},
   "source": [
    "### Insights:\n",
    "- The dataset is highly imbalanced across price categories, most restaurants fall into the medium price range around (68%), followed by low priced around (23%), while high priced restaurants are a small minority around (5%).\n",
    "\n",
    "- Comparing raw counts may bias the results toward medium priced restaurants.\n",
    "\n",
    "- To gain deeper insights, it will be important to examine the rating distribution within each price range."
   ]
  },
  {
   "cell_type": "code",
   "execution_count": 9,
   "id": "0ca40a3a",
   "metadata": {},
   "outputs": [
    {
     "data": {
      "text/plain": [
       "array(['$$ - $$$', '$$$$', '$'], dtype=object)"
      ]
     },
     "execution_count": 9,
     "metadata": {},
     "output_type": "execute_result"
    }
   ],
   "source": [
    "#check the categories in the Price_Range column\n",
    "df_price['Price_Range'].unique()"
   ]
  },
  {
   "cell_type": "code",
   "execution_count": 10,
   "id": "74932b5a",
   "metadata": {},
   "outputs": [
    {
     "data": {
      "text/html": [
       "<div>\n",
       "<style scoped>\n",
       "    .dataframe tbody tr th:only-of-type {\n",
       "        vertical-align: middle;\n",
       "    }\n",
       "\n",
       "    .dataframe tbody tr th {\n",
       "        vertical-align: top;\n",
       "    }\n",
       "\n",
       "    .dataframe thead th {\n",
       "        text-align: right;\n",
       "    }\n",
       "</style>\n",
       "<table border=\"1\" class=\"dataframe\">\n",
       "  <thead>\n",
       "    <tr style=\"text-align: right;\">\n",
       "      <th></th>\n",
       "      <th>Name</th>\n",
       "      <th>City</th>\n",
       "      <th>Cuisine</th>\n",
       "      <th>Ranking</th>\n",
       "      <th>Rating</th>\n",
       "      <th>Price_Range</th>\n",
       "      <th>Number_of_Reviews</th>\n",
       "      <th>Cuisine_Counts</th>\n",
       "      <th>Country_Name</th>\n",
       "    </tr>\n",
       "  </thead>\n",
       "  <tbody>\n",
       "    <tr>\n",
       "      <th>0</th>\n",
       "      <td>Martine of Martine's Table</td>\n",
       "      <td>Amsterdam</td>\n",
       "      <td>['French', 'Dutch', 'European']</td>\n",
       "      <td>1.0</td>\n",
       "      <td>5.0</td>\n",
       "      <td>medium</td>\n",
       "      <td>136</td>\n",
       "      <td>3</td>\n",
       "      <td>Netherlands</td>\n",
       "    </tr>\n",
       "  </tbody>\n",
       "</table>\n",
       "</div>"
      ],
      "text/plain": [
       "                         Name       City                          Cuisine  \\\n",
       "0  Martine of Martine's Table  Amsterdam  ['French', 'Dutch', 'European']   \n",
       "\n",
       "   Ranking  Rating Price_Range  Number_of_Reviews  Cuisine_Counts Country_Name  \n",
       "0      1.0     5.0      medium                136               3  Netherlands  "
      ]
     },
     "execution_count": 10,
     "metadata": {},
     "output_type": "execute_result"
    }
   ],
   "source": [
    "#change the Price_Range column into three simplified categories: $$$$ to high, $$ - $$$ to medium, $ to low\n",
    "df_price['Price_Range'] = df_price['Price_Range'].replace({'$$$$': 'high', '$$ - $$$': 'medium', '$': 'low'})\n",
    "#display the first row to confirm changes\n",
    "df_price.head(1)"
   ]
  },
  {
   "cell_type": "code",
   "execution_count": 11,
   "id": "cbda8182",
   "metadata": {},
   "outputs": [
    {
     "data": {
      "text/html": [
       "<div>\n",
       "<style scoped>\n",
       "    .dataframe tbody tr th:only-of-type {\n",
       "        vertical-align: middle;\n",
       "    }\n",
       "\n",
       "    .dataframe tbody tr th {\n",
       "        vertical-align: top;\n",
       "    }\n",
       "\n",
       "    .dataframe thead th {\n",
       "        text-align: right;\n",
       "    }\n",
       "</style>\n",
       "<table border=\"1\" class=\"dataframe\">\n",
       "  <thead>\n",
       "    <tr style=\"text-align: right;\">\n",
       "      <th></th>\n",
       "      <th>Name</th>\n",
       "      <th>City</th>\n",
       "      <th>Cuisine</th>\n",
       "      <th>Ranking</th>\n",
       "      <th>Rating</th>\n",
       "      <th>Price_Range</th>\n",
       "      <th>Number_of_Reviews</th>\n",
       "      <th>Cuisine_Counts</th>\n",
       "      <th>Country_Name</th>\n",
       "      <th>Rating_Category</th>\n",
       "    </tr>\n",
       "  </thead>\n",
       "  <tbody>\n",
       "    <tr>\n",
       "      <th>0</th>\n",
       "      <td>Martine of Martine's Table</td>\n",
       "      <td>Amsterdam</td>\n",
       "      <td>['French', 'Dutch', 'European']</td>\n",
       "      <td>1.0</td>\n",
       "      <td>5.0</td>\n",
       "      <td>medium</td>\n",
       "      <td>136</td>\n",
       "      <td>3</td>\n",
       "      <td>Netherlands</td>\n",
       "      <td>Excellent</td>\n",
       "    </tr>\n",
       "  </tbody>\n",
       "</table>\n",
       "</div>"
      ],
      "text/plain": [
       "                         Name       City                          Cuisine  \\\n",
       "0  Martine of Martine's Table  Amsterdam  ['French', 'Dutch', 'European']   \n",
       "\n",
       "   Ranking  Rating Price_Range  Number_of_Reviews  Cuisine_Counts  \\\n",
       "0      1.0     5.0      medium                136               3   \n",
       "\n",
       "  Country_Name Rating_Category  \n",
       "0  Netherlands       Excellent  "
      ]
     },
     "execution_count": 11,
     "metadata": {},
     "output_type": "execute_result"
    }
   ],
   "source": [
    "#change the Rating column into three simplified categories: Excellent (4-5), Average (3.0–3.9), Poor (1-2.9)\n",
    "def categorize_rating(rating):\n",
    "    if rating >= 4.0:\n",
    "        return 'Excellent'\n",
    "    elif 3.0 <= rating < 4.0:\n",
    "        return 'Average'\n",
    "    else:\n",
    "        return 'Poor'  \n",
    "df_price['Rating_Category'] = df_price['Rating'].apply(categorize_rating)\n",
    "#display the first row to confirm changes\n",
    "df_price.head(1)"
   ]
  },
  {
   "cell_type": "code",
   "execution_count": 12,
   "id": "2d577513",
   "metadata": {},
   "outputs": [
    {
     "data": {
      "image/png": "[encoded data removed]",
      "text/plain": [
       "<Figure size 1800x600 with 3 Axes>"
      ]
     },
     "metadata": {},
     "output_type": "display_data"
    }
   ],
   "source": [
    "#subplots pie chart showing the proportion of rating categories for each price range\n",
    "fig, axes = plt.subplots(1, 3, figsize=(18, 6))\n",
    "price_ranges = ['high', 'medium', 'low']\n",
    "for ax, price in zip(axes, price_ranges):\n",
    "    data = df_price[df_price['Price_Range'] == price]['Rating_Category'].value_counts()\n",
    "    ax.pie(data, labels=data.index, autopct='%1.1f%%', startangle=140)\n",
    "    ax.set_title(f'Rating Distribution for {price.capitalize()} Price Range')\n",
    "plt.tight_layout()\n",
    "plt.show()\n"
   ]
  },
  {
   "cell_type": "markdown",
   "id": "111e9538",
   "metadata": {},
   "source": [
    "### Key Insights\n",
    "* High Price Range:\n",
    "\n",
    "    * 88.1% of high-priced restaurants are rated as Excellent, with only 10.8% rated as Average and a 1.1% rated as Poor.\n",
    "\n",
    "    * This indicates a strong positive correlation between higher prices and excellent ratings.\n",
    "\n",
    "* Medium Price Range:\n",
    "\n",
    "    * The proportion of Excellent ratings drops to 72.0%, while Average ratings increase to 25.8%, and Poor ratings to 2.2%.\n",
    "\n",
    "    * This shows a more balanced distribution, but still skewed toward excellent ratings.\n",
    "\n",
    "* Low Price Range:\n",
    "\n",
    "   * Excellent ratings account for 76.2%, slightly higher than the medium price range but lower than the high range.\n",
    "\n",
    "### Conclusion\n",
    "The data reveals a clear relationship between price range and customer ratings. High priced restaurants receive excellent ratings, supporting the price perception hypothesis. customers may associate higher prices with better quality, services and ambiance."
   ]
  },
  {
   "cell_type": "markdown",
   "id": "3087287c",
   "metadata": {},
   "source": [
    "---"
   ]
  },
  {
   "cell_type": "markdown",
   "id": "6b0cf473",
   "metadata": {},
   "source": []
  }
 ],
 "metadata": {
  "kernelspec": {
   "display_name": ".venv",
   "language": "python",
   "name": "python3"
  },
  "language_info": {
   "codemirror_mode": {
    "name": "ipython",
    "version": 3
   },
   "file_extension": ".py",
   "mimetype": "text/x-python",
   "name": "python",
   "nbconvert_exporter": "python",
   "pygments_lexer": "ipython3",
   "version": "3.9.13"
  }
 },
 "nbformat": 4,
 "nbformat_minor": 5
}
