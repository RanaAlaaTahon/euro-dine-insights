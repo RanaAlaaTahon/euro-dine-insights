{
 "cells": [
  {
   "cell_type": "markdown",
   "id": "e6cbcca5",
   "metadata": {},
   "source": [
    "# ETL (Extract, Transform, Load)"
   ]
  },
  {
   "cell_type": "markdown",
   "id": "266c7f3e",
   "metadata": {},
   "source": [
    "This dataset contains detailed information on over 125,000 restaurants across 31 major cities in Europe, collected from Tripadvisor. Each entry includes:\n",
    "\n",
    "- City location\n",
    "\n",
    "- Cuisine (single or multiple cuisines per restaurant)\n",
    "\n",
    "- Rating (on a 1–5 scale)\n",
    "\n",
    "- Ranking within the city\n",
    "\n",
    "- Price Range (Low, Mid, High)\n",
    "\n",
    "- Number of Reviews\n",
    "\n",
    "- Sample of customer reviews and their dates\n",
    "\n",
    "- Tripadvisor URL and unique restaurant ID\n",
    "\n",
    "The dataset supports a wide range of analyses, including cuisine trends, pricing patterns, customer preferences, and regional comparisons. While rich in content, it also contains missing values that require preprocessing for accurate analysis."
   ]
  },
  {
   "cell_type": "markdown",
   "id": "381a837c",
   "metadata": {},
   "source": [
    "## Objectives\n",
    "The objective of this step is to extract, clean, and transform raw data into a structured format suitable for analysis and visualization, ensuring consistency, accuracy, and usability throughout the project."
   ]
  },
  {
   "cell_type": "markdown",
   "id": "a93b8a4e",
   "metadata": {},
   "source": [
    "## Inputs\n",
    "The dataset was obtained from [Kaggle](https://www.kaggle.com/datasets/damienbeneschi/krakow-ta-restaurans-data-raw/data)"
   ]
  },
  {
   "cell_type": "markdown",
   "id": "acabf44c",
   "metadata": {},
   "source": [
    "## Outputs\n",
    "The cleaned csv file found [here]()"
   ]
  },
  {
   "cell_type": "markdown",
   "id": "31ce1b9c",
   "metadata": {},
   "source": [
    "# ETL Process\n",
    "\n",
    "- Load the dataset\n",
    "- Understand dataset structure and content\n",
    "- Convert data types\n",
    "- Clean the dataset\n",
    "- Add country column\n",
    "- Add cuisine counts column\n",
    "- Save the clean dataset as a csv file"
   ]
  },
  {
   "cell_type": "markdown",
   "id": "15ec6942",
   "metadata": {},
   "source": [
    "---"
   ]
  },
  {
   "cell_type": "markdown",
   "id": "0b736d0b",
   "metadata": {},
   "source": [
    "# Change working directory\n",
    "Change the working directory from its current folder to its parent folder as the notebooks will be stored in a subfolder\n",
    "* We access the current directory with os.getcwd()"
   ]
  },
  {
   "cell_type": "code",
   "execution_count": 1,
   "id": "903fba09",
   "metadata": {},
   "outputs": [
    {
     "data": {
      "text/plain": [
       "'c:\\\\Users\\\\amron\\\\Desktop\\\\euro-dine-insights\\\\jupyter_notebooks'"
      ]
     },
     "execution_count": 1,
     "metadata": {},
     "output_type": "execute_result"
    }
   ],
   "source": [
    "import os\n",
    "current_dir = os.getcwd()\n",
    "current_dir"
   ]
  },
  {
   "cell_type": "markdown",
   "id": "9bd9bf9c",
   "metadata": {},
   "source": [
    "Make the parent of the current directory the new current directory\n",
    "* os.path.dirname() gets the parent directory\n",
    "* os.chir() defines the new current directory"
   ]
  },
  {
   "cell_type": "code",
   "execution_count": 2,
   "id": "cea61730",
   "metadata": {},
   "outputs": [
    {
     "name": "stdout",
     "output_type": "stream",
     "text": [
      "You set a new current directory\n"
     ]
    }
   ],
   "source": [
    "os.chdir(os.path.dirname(current_dir))\n",
    "print(\"You set a new current directory\")"
   ]
  },
  {
   "cell_type": "markdown",
   "id": "d4884f2a",
   "metadata": {},
   "source": [
    "Confirm the new current directory"
   ]
  },
  {
   "cell_type": "code",
   "execution_count": 3,
   "id": "71ef2d68",
   "metadata": {},
   "outputs": [
    {
     "data": {
      "text/plain": [
       "'c:\\\\Users\\\\amron\\\\Desktop\\\\euro-dine-insights'"
      ]
     },
     "execution_count": 3,
     "metadata": {},
     "output_type": "execute_result"
    }
   ],
   "source": [
    "current_dir = os.getcwd()\n",
    "current_dir"
   ]
  },
  {
   "cell_type": "markdown",
   "id": "3c4f3d91",
   "metadata": {},
   "source": [
    "Changing path directory to the dataset"
   ]
  },
  {
   "cell_type": "code",
   "execution_count": 4,
   "id": "828aaf6e",
   "metadata": {},
   "outputs": [],
   "source": [
    "raw_data_dir = os.path.join(current_dir, 'data_set/raw') #path directory\n",
    "\n",
    "processed_data_dir = os.path.join(current_dir, 'data_set/processed') #path directory\n"
   ]
  },
  {
   "cell_type": "markdown",
   "id": "2279e71a",
   "metadata": {},
   "source": [
    "---"
   ]
  },
  {
   "cell_type": "markdown",
   "id": "cdff43f2",
   "metadata": {},
   "source": [
    "# Import packages"
   ]
  },
  {
   "cell_type": "code",
   "execution_count": 5,
   "id": "b8c19a98",
   "metadata": {},
   "outputs": [],
   "source": [
    "import numpy as np #import numpy\n",
    "import pandas as pd #import pandas\n",
    "import matplotlib.pyplot as plt #import matplotlib\n",
    "import seaborn as sns #import seaborn\n",
    "import plotly.express as px # import plotly\n",
    "sns.set_style('whitegrid') #set style for visuals"
   ]
  },
  {
   "cell_type": "markdown",
   "id": "dfdc6fac",
   "metadata": {},
   "source": [
    "---"
   ]
  },
  {
   "cell_type": "markdown",
   "id": "df384e8c",
   "metadata": {},
   "source": [
    "# Load the raw dataset"
   ]
  },
  {
   "cell_type": "code",
   "execution_count": 6,
   "id": "6d94433d",
   "metadata": {},
   "outputs": [],
   "source": [
    "#load the dataset\n",
    "import pandas as pd\n",
    "df = pd.read_csv(os.path.join(raw_data_dir, 'TA_restaurants_curated.csv'))"
   ]
  },
  {
   "cell_type": "markdown",
   "id": "322a4283",
   "metadata": {},
   "source": [
    "The raw dataset is loaded using Pandas for ETL process"
   ]
  },
  {
   "cell_type": "markdown",
   "id": "41067d23",
   "metadata": {},
   "source": [
    "---"
   ]
  },
  {
   "cell_type": "markdown",
   "id": "e5cf6ff0",
   "metadata": {},
   "source": [
    "# Understand the dataset structure and content"
   ]
  },
  {
   "cell_type": "code",
   "execution_count": 7,
   "id": "6f9e07ad",
   "metadata": {},
   "outputs": [
    {
     "data": {
      "text/html": [
       "<div>\n",
       "<style scoped>\n",
       "    .dataframe tbody tr th:only-of-type {\n",
       "        vertical-align: middle;\n",
       "    }\n",
       "\n",
       "    .dataframe tbody tr th {\n",
       "        vertical-align: top;\n",
       "    }\n",
       "\n",
       "    .dataframe thead th {\n",
       "        text-align: right;\n",
       "    }\n",
       "</style>\n",
       "<table border=\"1\" class=\"dataframe\">\n",
       "  <thead>\n",
       "    <tr style=\"text-align: right;\">\n",
       "      <th></th>\n",
       "      <th>Unnamed: 0</th>\n",
       "      <th>Name</th>\n",
       "      <th>City</th>\n",
       "      <th>Cuisine Style</th>\n",
       "      <th>Ranking</th>\n",
       "      <th>Rating</th>\n",
       "      <th>Price Range</th>\n",
       "      <th>Number of Reviews</th>\n",
       "      <th>Reviews</th>\n",
       "      <th>URL_TA</th>\n",
       "      <th>ID_TA</th>\n",
       "    </tr>\n",
       "  </thead>\n",
       "  <tbody>\n",
       "    <tr>\n",
       "      <th>0</th>\n",
       "      <td>0</td>\n",
       "      <td>Martine of Martine's Table</td>\n",
       "      <td>Amsterdam</td>\n",
       "      <td>['French', 'Dutch', 'European']</td>\n",
       "      <td>1.0</td>\n",
       "      <td>5.0</td>\n",
       "      <td>$$ - $$$</td>\n",
       "      <td>136.0</td>\n",
       "      <td>[['Just like home', 'A Warm Welcome to Wintry ...</td>\n",
       "      <td>/Restaurant_Review-g188590-d11752080-Reviews-M...</td>\n",
       "      <td>d11752080</td>\n",
       "    </tr>\n",
       "    <tr>\n",
       "      <th>1</th>\n",
       "      <td>1</td>\n",
       "      <td>De Silveren Spiegel</td>\n",
       "      <td>Amsterdam</td>\n",
       "      <td>['Dutch', 'European', 'Vegetarian Friendly', '...</td>\n",
       "      <td>2.0</td>\n",
       "      <td>4.5</td>\n",
       "      <td>$$$$</td>\n",
       "      <td>812.0</td>\n",
       "      <td>[['Great food and staff', 'just perfect'], ['0...</td>\n",
       "      <td>/Restaurant_Review-g188590-d693419-Reviews-De_...</td>\n",
       "      <td>d693419</td>\n",
       "    </tr>\n",
       "    <tr>\n",
       "      <th>2</th>\n",
       "      <td>2</td>\n",
       "      <td>La Rive</td>\n",
       "      <td>Amsterdam</td>\n",
       "      <td>['Mediterranean', 'French', 'International', '...</td>\n",
       "      <td>3.0</td>\n",
       "      <td>4.5</td>\n",
       "      <td>$$$$</td>\n",
       "      <td>567.0</td>\n",
       "      <td>[['Satisfaction', 'Delicious old school restau...</td>\n",
       "      <td>/Restaurant_Review-g188590-d696959-Reviews-La_...</td>\n",
       "      <td>d696959</td>\n",
       "    </tr>\n",
       "    <tr>\n",
       "      <th>3</th>\n",
       "      <td>3</td>\n",
       "      <td>Vinkeles</td>\n",
       "      <td>Amsterdam</td>\n",
       "      <td>['French', 'European', 'International', 'Conte...</td>\n",
       "      <td>4.0</td>\n",
       "      <td>5.0</td>\n",
       "      <td>$$$$</td>\n",
       "      <td>564.0</td>\n",
       "      <td>[['True five star dinner', 'A superb evening o...</td>\n",
       "      <td>/Restaurant_Review-g188590-d1239229-Reviews-Vi...</td>\n",
       "      <td>d1239229</td>\n",
       "    </tr>\n",
       "    <tr>\n",
       "      <th>4</th>\n",
       "      <td>4</td>\n",
       "      <td>Librije's Zusje Amsterdam</td>\n",
       "      <td>Amsterdam</td>\n",
       "      <td>['Dutch', 'European', 'International', 'Vegeta...</td>\n",
       "      <td>5.0</td>\n",
       "      <td>4.5</td>\n",
       "      <td>$$$$</td>\n",
       "      <td>316.0</td>\n",
       "      <td>[['Best meal.... EVER', 'super food experience...</td>\n",
       "      <td>/Restaurant_Review-g188590-d6864170-Reviews-Li...</td>\n",
       "      <td>d6864170</td>\n",
       "    </tr>\n",
       "  </tbody>\n",
       "</table>\n",
       "</div>"
      ],
      "text/plain": [
       "   Unnamed: 0                        Name       City  \\\n",
       "0           0  Martine of Martine's Table  Amsterdam   \n",
       "1           1         De Silveren Spiegel  Amsterdam   \n",
       "2           2                     La Rive  Amsterdam   \n",
       "3           3                    Vinkeles  Amsterdam   \n",
       "4           4   Librije's Zusje Amsterdam  Amsterdam   \n",
       "\n",
       "                                       Cuisine Style  Ranking  Rating  \\\n",
       "0                    ['French', 'Dutch', 'European']      1.0     5.0   \n",
       "1  ['Dutch', 'European', 'Vegetarian Friendly', '...      2.0     4.5   \n",
       "2  ['Mediterranean', 'French', 'International', '...      3.0     4.5   \n",
       "3  ['French', 'European', 'International', 'Conte...      4.0     5.0   \n",
       "4  ['Dutch', 'European', 'International', 'Vegeta...      5.0     4.5   \n",
       "\n",
       "  Price Range  Number of Reviews  \\\n",
       "0    $$ - $$$              136.0   \n",
       "1        $$$$              812.0   \n",
       "2        $$$$              567.0   \n",
       "3        $$$$              564.0   \n",
       "4        $$$$              316.0   \n",
       "\n",
       "                                             Reviews  \\\n",
       "0  [['Just like home', 'A Warm Welcome to Wintry ...   \n",
       "1  [['Great food and staff', 'just perfect'], ['0...   \n",
       "2  [['Satisfaction', 'Delicious old school restau...   \n",
       "3  [['True five star dinner', 'A superb evening o...   \n",
       "4  [['Best meal.... EVER', 'super food experience...   \n",
       "\n",
       "                                              URL_TA      ID_TA  \n",
       "0  /Restaurant_Review-g188590-d11752080-Reviews-M...  d11752080  \n",
       "1  /Restaurant_Review-g188590-d693419-Reviews-De_...    d693419  \n",
       "2  /Restaurant_Review-g188590-d696959-Reviews-La_...    d696959  \n",
       "3  /Restaurant_Review-g188590-d1239229-Reviews-Vi...   d1239229  \n",
       "4  /Restaurant_Review-g188590-d6864170-Reviews-Li...   d6864170  "
      ]
     },
     "execution_count": 7,
     "metadata": {},
     "output_type": "execute_result"
    }
   ],
   "source": [
    "#displaying data\n",
    "df.head() "
   ]
  },
  {
   "cell_type": "markdown",
   "id": "1784609f",
   "metadata": {},
   "source": [
    "Upon loading the dataset, we observed an Unnamed: 0 column, which is a duplicate of the default index. Since it does not carry any additional information, it will be dropped in the data cleaning step to avoid redundancy."
   ]
  },
  {
   "cell_type": "code",
   "execution_count": 8,
   "id": "1f973233",
   "metadata": {},
   "outputs": [
    {
     "name": "stdout",
     "output_type": "stream",
     "text": [
      "<class 'pandas.core.frame.DataFrame'>\n",
      "RangeIndex: 125527 entries, 0 to 125526\n",
      "Data columns (total 11 columns):\n",
      " #   Column             Non-Null Count   Dtype  \n",
      "---  ------             --------------   -----  \n",
      " 0   Unnamed: 0         125527 non-null  int64  \n",
      " 1   Name               125527 non-null  object \n",
      " 2   City               125527 non-null  object \n",
      " 3   Cuisine Style      94176 non-null   object \n",
      " 4   Ranking            115876 non-null  float64\n",
      " 5   Rating             115897 non-null  float64\n",
      " 6   Price Range        77672 non-null   object \n",
      " 7   Number of Reviews  108183 non-null  float64\n",
      " 8   Reviews            115911 non-null  object \n",
      " 9   URL_TA             125527 non-null  object \n",
      " 10  ID_TA              125527 non-null  object \n",
      "dtypes: float64(3), int64(1), object(7)\n",
      "memory usage: 10.5+ MB\n"
     ]
    }
   ],
   "source": [
    "#check data info\n",
    "df.info()"
   ]
  },
  {
   "cell_type": "markdown",
   "id": "661de7e9",
   "metadata": {},
   "source": [
    "The raw dataset contains 125,527 rows and 11 columns. It has a significant number of missing values in several key columns such as Cuisine Style, Price Range, and Number of Reviews. Additionally, some data types may need to be converted to prepare the data for analysis."
   ]
  },
  {
   "cell_type": "markdown",
   "id": "add8d3ce",
   "metadata": {},
   "source": [
    "---"
   ]
  },
  {
   "cell_type": "markdown",
   "id": "0fc6f1f9",
   "metadata": {},
   "source": [
    "# Clean the data"
   ]
  },
  {
   "cell_type": "markdown",
   "id": "86b8681a",
   "metadata": {},
   "source": [
    "### 1. Dropping Unnamed: 0 column"
   ]
  },
  {
   "cell_type": "markdown",
   "id": "05044268",
   "metadata": {},
   "source": [
    "This column provides no useful information and can be removed to clean up the dataset."
   ]
  },
  {
   "cell_type": "code",
   "execution_count": 9,
   "id": "098e6313",
   "metadata": {},
   "outputs": [],
   "source": [
    "#dropping Unnamed: 0 column\n",
    "df = df.drop(columns=['Unnamed: 0'])"
   ]
  },
  {
   "cell_type": "code",
   "execution_count": 10,
   "id": "7e40123f",
   "metadata": {},
   "outputs": [
    {
     "data": {
      "text/html": [
       "<div>\n",
       "<style scoped>\n",
       "    .dataframe tbody tr th:only-of-type {\n",
       "        vertical-align: middle;\n",
       "    }\n",
       "\n",
       "    .dataframe tbody tr th {\n",
       "        vertical-align: top;\n",
       "    }\n",
       "\n",
       "    .dataframe thead th {\n",
       "        text-align: right;\n",
       "    }\n",
       "</style>\n",
       "<table border=\"1\" class=\"dataframe\">\n",
       "  <thead>\n",
       "    <tr style=\"text-align: right;\">\n",
       "      <th></th>\n",
       "      <th>Name</th>\n",
       "      <th>City</th>\n",
       "      <th>Cuisine Style</th>\n",
       "      <th>Ranking</th>\n",
       "      <th>Rating</th>\n",
       "      <th>Price Range</th>\n",
       "      <th>Number of Reviews</th>\n",
       "      <th>Reviews</th>\n",
       "      <th>URL_TA</th>\n",
       "      <th>ID_TA</th>\n",
       "    </tr>\n",
       "  </thead>\n",
       "  <tbody>\n",
       "    <tr>\n",
       "      <th>0</th>\n",
       "      <td>Martine of Martine's Table</td>\n",
       "      <td>Amsterdam</td>\n",
       "      <td>['French', 'Dutch', 'European']</td>\n",
       "      <td>1.0</td>\n",
       "      <td>5.0</td>\n",
       "      <td>$$ - $$$</td>\n",
       "      <td>136.0</td>\n",
       "      <td>[['Just like home', 'A Warm Welcome to Wintry ...</td>\n",
       "      <td>/Restaurant_Review-g188590-d11752080-Reviews-M...</td>\n",
       "      <td>d11752080</td>\n",
       "    </tr>\n",
       "  </tbody>\n",
       "</table>\n",
       "</div>"
      ],
      "text/plain": [
       "                         Name       City                    Cuisine Style  \\\n",
       "0  Martine of Martine's Table  Amsterdam  ['French', 'Dutch', 'European']   \n",
       "\n",
       "   Ranking  Rating Price Range  Number of Reviews  \\\n",
       "0      1.0     5.0    $$ - $$$              136.0   \n",
       "\n",
       "                                             Reviews  \\\n",
       "0  [['Just like home', 'A Warm Welcome to Wintry ...   \n",
       "\n",
       "                                              URL_TA      ID_TA  \n",
       "0  /Restaurant_Review-g188590-d11752080-Reviews-M...  d11752080  "
      ]
     },
     "execution_count": 10,
     "metadata": {},
     "output_type": "execute_result"
    }
   ],
   "source": [
    "#display data after Unnamed: 0 column dropped\n",
    "df.head(1)"
   ]
  },
  {
   "cell_type": "markdown",
   "id": "ce6e5e4f",
   "metadata": {},
   "source": [
    "### 2. Identifying and handling missing values"
   ]
  },
  {
   "cell_type": "code",
   "execution_count": 11,
   "id": "1c508e38",
   "metadata": {},
   "outputs": [
    {
     "data": {
      "text/plain": [
       "Name                     0\n",
       "City                     0\n",
       "Cuisine Style        31351\n",
       "Ranking               9651\n",
       "Rating                9630\n",
       "Price Range          47855\n",
       "Number of Reviews    17344\n",
       "Reviews               9616\n",
       "URL_TA                   0\n",
       "ID_TA                    0\n",
       "dtype: int64"
      ]
     },
     "execution_count": 11,
     "metadata": {},
     "output_type": "execute_result"
    }
   ],
   "source": [
    "#check for null values\n",
    "df.isnull().sum() "
   ]
  },
  {
   "cell_type": "markdown",
   "id": "0e493057",
   "metadata": {},
   "source": [
    "The dataset contains missing values in several columns:\n",
    "\n",
    "- Cuisine Style: 31,351 nulls\n",
    "\n",
    "- Ranking: 9,651 nulls\n",
    "\n",
    "- Rating: 9,630 nulls\n",
    "\n",
    "- Price Range: 47,855 nulls\n",
    "\n",
    "- Number of Reviews: 17,344 nulls\n",
    "\n",
    "- Reviews: 9,616 nulls\n",
    "\n",
    "To ensure reliable analysis, these missing values should be addressed through data cleaning techniques like removal or filling with default values."
   ]
  },
  {
   "cell_type": "code",
   "execution_count": 12,
   "id": "89125f0c",
   "metadata": {},
   "outputs": [],
   "source": [
    "#dropping rows with null values\n",
    "df = df.dropna()"
   ]
  },
  {
   "cell_type": "code",
   "execution_count": 13,
   "id": "fd328b95",
   "metadata": {},
   "outputs": [
    {
     "data": {
      "text/plain": [
       "Name                 0\n",
       "City                 0\n",
       "Cuisine Style        0\n",
       "Ranking              0\n",
       "Rating               0\n",
       "Price Range          0\n",
       "Number of Reviews    0\n",
       "Reviews              0\n",
       "URL_TA               0\n",
       "ID_TA                0\n",
       "dtype: int64"
      ]
     },
     "execution_count": 13,
     "metadata": {},
     "output_type": "execute_result"
    }
   ],
   "source": [
    "#check null values again\n",
    "df.isnull().sum()"
   ]
  },
  {
   "cell_type": "markdown",
   "id": "6de1b328",
   "metadata": {},
   "source": [
    "All rows containing null values have been removed from the dataset to ensure data completeness and improve the quality of analysis."
   ]
  },
  {
   "cell_type": "markdown",
   "id": "0e7dc9bd",
   "metadata": {},
   "source": [
    "### 3. Identifying duplicates in the dataset"
   ]
  },
  {
   "cell_type": "code",
   "execution_count": 14,
   "id": "ed13d2ae",
   "metadata": {},
   "outputs": [
    {
     "data": {
      "text/plain": [
       "8"
      ]
     },
     "execution_count": 14,
     "metadata": {},
     "output_type": "execute_result"
    }
   ],
   "source": [
    "#check for duplicates\n",
    "df.duplicated(keep=False).sum() "
   ]
  },
  {
   "cell_type": "markdown",
   "id": "1c1e50fd",
   "metadata": {},
   "source": [
    "The result showed 8 duplicate entries, indicating that some rows contain identical data and need to be removed to avoid redundancy and ensure accurate analysis."
   ]
  },
  {
   "cell_type": "code",
   "execution_count": 15,
   "id": "13c04a10",
   "metadata": {},
   "outputs": [
    {
     "data": {
      "text/html": [
       "<div>\n",
       "<style scoped>\n",
       "    .dataframe tbody tr th:only-of-type {\n",
       "        vertical-align: middle;\n",
       "    }\n",
       "\n",
       "    .dataframe tbody tr th {\n",
       "        vertical-align: top;\n",
       "    }\n",
       "\n",
       "    .dataframe thead th {\n",
       "        text-align: right;\n",
       "    }\n",
       "</style>\n",
       "<table border=\"1\" class=\"dataframe\">\n",
       "  <thead>\n",
       "    <tr style=\"text-align: right;\">\n",
       "      <th></th>\n",
       "      <th>Name</th>\n",
       "      <th>City</th>\n",
       "      <th>Cuisine Style</th>\n",
       "      <th>Ranking</th>\n",
       "      <th>Rating</th>\n",
       "      <th>Price Range</th>\n",
       "      <th>Number of Reviews</th>\n",
       "      <th>Reviews</th>\n",
       "      <th>URL_TA</th>\n",
       "      <th>ID_TA</th>\n",
       "    </tr>\n",
       "  </thead>\n",
       "  <tbody>\n",
       "    <tr>\n",
       "      <th>122677</th>\n",
       "      <td>Rolls Rolls</td>\n",
       "      <td>Warsaw</td>\n",
       "      <td>['Sushi', 'Asian', 'Fusion', 'Healthy']</td>\n",
       "      <td>1171.0</td>\n",
       "      <td>4.0</td>\n",
       "      <td>$</td>\n",
       "      <td>14.0</td>\n",
       "      <td>[['Great Rolls Sushi', 'Overpiced, overhyped, ...</td>\n",
       "      <td>/Restaurant_Review-g274856-d9756783-Reviews-Ro...</td>\n",
       "      <td>d9756783</td>\n",
       "    </tr>\n",
       "    <tr>\n",
       "      <th>122678</th>\n",
       "      <td>Rolls Rolls</td>\n",
       "      <td>Warsaw</td>\n",
       "      <td>['Sushi', 'Asian', 'Fusion', 'Healthy']</td>\n",
       "      <td>1171.0</td>\n",
       "      <td>4.0</td>\n",
       "      <td>$</td>\n",
       "      <td>14.0</td>\n",
       "      <td>[['Great Rolls Sushi', 'Overpiced, overhyped, ...</td>\n",
       "      <td>/Restaurant_Review-g274856-d9756783-Reviews-Ro...</td>\n",
       "      <td>d9756783</td>\n",
       "    </tr>\n",
       "    <tr>\n",
       "      <th>123217</th>\n",
       "      <td>Flow Bar</td>\n",
       "      <td>Warsaw</td>\n",
       "      <td>['Bar', 'Polish', 'European']</td>\n",
       "      <td>1711.0</td>\n",
       "      <td>3.0</td>\n",
       "      <td>$$ - $$$</td>\n",
       "      <td>73.0</td>\n",
       "      <td>[['Nice spot', 'Good Position'], ['09/03/2017'...</td>\n",
       "      <td>/Restaurant_Review-g274856-d2351903-Reviews-Fl...</td>\n",
       "      <td>d2351903</td>\n",
       "    </tr>\n",
       "    <tr>\n",
       "      <th>123218</th>\n",
       "      <td>Flow Bar</td>\n",
       "      <td>Warsaw</td>\n",
       "      <td>['Bar', 'Polish', 'European']</td>\n",
       "      <td>1711.0</td>\n",
       "      <td>3.0</td>\n",
       "      <td>$$ - $$$</td>\n",
       "      <td>73.0</td>\n",
       "      <td>[['Nice spot', 'Good Position'], ['09/03/2017'...</td>\n",
       "      <td>/Restaurant_Review-g274856-d2351903-Reviews-Fl...</td>\n",
       "      <td>d2351903</td>\n",
       "    </tr>\n",
       "    <tr>\n",
       "      <th>123307</th>\n",
       "      <td>Basico Pizza</td>\n",
       "      <td>Warsaw</td>\n",
       "      <td>['Italian']</td>\n",
       "      <td>1801.0</td>\n",
       "      <td>3.5</td>\n",
       "      <td>$</td>\n",
       "      <td>3.0</td>\n",
       "      <td>[[], []]</td>\n",
       "      <td>/Restaurant_Review-g274856-d10316215-Reviews-B...</td>\n",
       "      <td>d10316215</td>\n",
       "    </tr>\n",
       "    <tr>\n",
       "      <th>123308</th>\n",
       "      <td>Basico Pizza</td>\n",
       "      <td>Warsaw</td>\n",
       "      <td>['Italian']</td>\n",
       "      <td>1801.0</td>\n",
       "      <td>3.5</td>\n",
       "      <td>$</td>\n",
       "      <td>3.0</td>\n",
       "      <td>[[], []]</td>\n",
       "      <td>/Restaurant_Review-g274856-d10316215-Reviews-B...</td>\n",
       "      <td>d10316215</td>\n",
       "    </tr>\n",
       "    <tr>\n",
       "      <th>123487</th>\n",
       "      <td>Restauracja Olive Garden</td>\n",
       "      <td>Warsaw</td>\n",
       "      <td>['Mediterranean', 'Middle Eastern', 'Italian',...</td>\n",
       "      <td>1981.0</td>\n",
       "      <td>4.0</td>\n",
       "      <td>$$ - $$$</td>\n",
       "      <td>16.0</td>\n",
       "      <td>[['Good restaurant for one meal.', 'Olive Gard...</td>\n",
       "      <td>/Restaurant_Review-g274856-d3396817-Reviews-Re...</td>\n",
       "      <td>d3396817</td>\n",
       "    </tr>\n",
       "    <tr>\n",
       "      <th>123488</th>\n",
       "      <td>Restauracja Olive Garden</td>\n",
       "      <td>Warsaw</td>\n",
       "      <td>['Mediterranean', 'Middle Eastern', 'Italian',...</td>\n",
       "      <td>1981.0</td>\n",
       "      <td>4.0</td>\n",
       "      <td>$$ - $$$</td>\n",
       "      <td>16.0</td>\n",
       "      <td>[['Good restaurant for one meal.', 'Olive Gard...</td>\n",
       "      <td>/Restaurant_Review-g274856-d3396817-Reviews-Re...</td>\n",
       "      <td>d3396817</td>\n",
       "    </tr>\n",
       "  </tbody>\n",
       "</table>\n",
       "</div>"
      ],
      "text/plain": [
       "                            Name    City  \\\n",
       "122677               Rolls Rolls  Warsaw   \n",
       "122678               Rolls Rolls  Warsaw   \n",
       "123217                  Flow Bar  Warsaw   \n",
       "123218                  Flow Bar  Warsaw   \n",
       "123307              Basico Pizza  Warsaw   \n",
       "123308              Basico Pizza  Warsaw   \n",
       "123487  Restauracja Olive Garden  Warsaw   \n",
       "123488  Restauracja Olive Garden  Warsaw   \n",
       "\n",
       "                                            Cuisine Style  Ranking  Rating  \\\n",
       "122677            ['Sushi', 'Asian', 'Fusion', 'Healthy']   1171.0     4.0   \n",
       "122678            ['Sushi', 'Asian', 'Fusion', 'Healthy']   1171.0     4.0   \n",
       "123217                      ['Bar', 'Polish', 'European']   1711.0     3.0   \n",
       "123218                      ['Bar', 'Polish', 'European']   1711.0     3.0   \n",
       "123307                                        ['Italian']   1801.0     3.5   \n",
       "123308                                        ['Italian']   1801.0     3.5   \n",
       "123487  ['Mediterranean', 'Middle Eastern', 'Italian',...   1981.0     4.0   \n",
       "123488  ['Mediterranean', 'Middle Eastern', 'Italian',...   1981.0     4.0   \n",
       "\n",
       "       Price Range  Number of Reviews  \\\n",
       "122677           $               14.0   \n",
       "122678           $               14.0   \n",
       "123217    $$ - $$$               73.0   \n",
       "123218    $$ - $$$               73.0   \n",
       "123307           $                3.0   \n",
       "123308           $                3.0   \n",
       "123487    $$ - $$$               16.0   \n",
       "123488    $$ - $$$               16.0   \n",
       "\n",
       "                                                  Reviews  \\\n",
       "122677  [['Great Rolls Sushi', 'Overpiced, overhyped, ...   \n",
       "122678  [['Great Rolls Sushi', 'Overpiced, overhyped, ...   \n",
       "123217  [['Nice spot', 'Good Position'], ['09/03/2017'...   \n",
       "123218  [['Nice spot', 'Good Position'], ['09/03/2017'...   \n",
       "123307                                           [[], []]   \n",
       "123308                                           [[], []]   \n",
       "123487  [['Good restaurant for one meal.', 'Olive Gard...   \n",
       "123488  [['Good restaurant for one meal.', 'Olive Gard...   \n",
       "\n",
       "                                                   URL_TA      ID_TA  \n",
       "122677  /Restaurant_Review-g274856-d9756783-Reviews-Ro...   d9756783  \n",
       "122678  /Restaurant_Review-g274856-d9756783-Reviews-Ro...   d9756783  \n",
       "123217  /Restaurant_Review-g274856-d2351903-Reviews-Fl...   d2351903  \n",
       "123218  /Restaurant_Review-g274856-d2351903-Reviews-Fl...   d2351903  \n",
       "123307  /Restaurant_Review-g274856-d10316215-Reviews-B...  d10316215  \n",
       "123308  /Restaurant_Review-g274856-d10316215-Reviews-B...  d10316215  \n",
       "123487  /Restaurant_Review-g274856-d3396817-Reviews-Re...   d3396817  \n",
       "123488  /Restaurant_Review-g274856-d3396817-Reviews-Re...   d3396817  "
      ]
     },
     "execution_count": 15,
     "metadata": {},
     "output_type": "execute_result"
    }
   ],
   "source": [
    "#display the 8 duplicate rows for checking\n",
    "df[df.duplicated(keep=False)].head(8)"
   ]
  },
  {
   "cell_type": "code",
   "execution_count": 16,
   "id": "a98ae097",
   "metadata": {},
   "outputs": [],
   "source": [
    "#drop duplicates\n",
    "df = df.drop_duplicates()"
   ]
  },
  {
   "cell_type": "code",
   "execution_count": 17,
   "id": "b61bf022",
   "metadata": {},
   "outputs": [
    {
     "data": {
      "text/plain": [
       "0"
      ]
     },
     "execution_count": 17,
     "metadata": {},
     "output_type": "execute_result"
    }
   ],
   "source": [
    "#check for duplicates again to make sure the duplicated rows are dropped\n",
    "df.duplicated(keep=False).sum() "
   ]
  },
  {
   "cell_type": "markdown",
   "id": "cc35076d",
   "metadata": {},
   "source": [
    " ### 4. Adjusting columns names and remove spacing"
   ]
  },
  {
   "cell_type": "code",
   "execution_count": 18,
   "id": "03ebca6b",
   "metadata": {},
   "outputs": [],
   "source": [
    "#renaming columns\n",
    "df.rename(columns={\n",
    "    'Cuisine Style': 'Cuisine',\n",
    "    'Number of Reviews': 'Number_of_Reviews',\n",
    "    'Price Range': 'Price_Range'}, inplace=True) "
   ]
  },
  {
   "cell_type": "code",
   "execution_count": 19,
   "id": "14f2af40",
   "metadata": {},
   "outputs": [
    {
     "data": {
      "text/plain": [
       "Index(['Name', 'City', 'Cuisine', 'Ranking', 'Rating', 'Price_Range',\n",
       "       'Number_of_Reviews', 'Reviews', 'URL_TA', 'ID_TA'],\n",
       "      dtype='object')"
      ]
     },
     "execution_count": 19,
     "metadata": {},
     "output_type": "execute_result"
    }
   ],
   "source": [
    "#check adjusted columns names\n",
    "df.columns"
   ]
  },
  {
   "cell_type": "markdown",
   "id": "50bccfe4",
   "metadata": {},
   "source": [
    "Selected column names were renamed for consistency and improved readability."
   ]
  }
 ],
 "metadata": {
  "kernelspec": {
   "display_name": ".venv",
   "language": "python",
   "name": "python3"
  },
  "language_info": {
   "codemirror_mode": {
    "name": "ipython",
    "version": 3
   },
   "file_extension": ".py",
   "mimetype": "text/x-python",
   "name": "python",
   "nbconvert_exporter": "python",
   "pygments_lexer": "ipython3",
   "version": "3.9.13"
  }
 },
 "nbformat": 4,
 "nbformat_minor": 5
}
