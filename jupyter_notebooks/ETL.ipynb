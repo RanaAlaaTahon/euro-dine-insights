{
 "cells": [
  {
   "cell_type": "markdown",
   "id": "e6cbcca5",
   "metadata": {},
   "source": [
    "# ETL (Extract, Transform, Load)"
   ]
  },
  {
   "cell_type": "markdown",
   "id": "266c7f3e",
   "metadata": {},
   "source": [
    "This dataset contains detailed information on over 125,000 restaurants across 31 major cities in Europe, collected from Tripadvisor. Each entry includes:\n",
    "\n",
    "- City location\n",
    "\n",
    "- Cuisine (single or multiple cuisines per restaurant)\n",
    "\n",
    "- Rating (on a 1–5 scale)\n",
    "\n",
    "- Ranking within the city\n",
    "\n",
    "- Price Range (Low, Mid, High)\n",
    "\n",
    "- Number of Reviews\n",
    "\n",
    "- Sample of customer reviews and their dates\n",
    "\n",
    "- Tripadvisor URL and unique restaurant ID\n",
    "\n",
    "The dataset supports a wide range of analyses, including cuisine trends, pricing patterns, customer preferences, and regional comparisons. While rich in content, it also contains missing values that require preprocessing for accurate analysis."
   ]
  },
  {
   "cell_type": "markdown",
   "id": "381a837c",
   "metadata": {},
   "source": [
    "## Objectives\n",
    "The objective of this step is to extract, clean, and transform raw data into a structured format suitable for analysis and visualization, ensuring consistency, accuracy, and usability throughout the project."
   ]
  },
  {
   "cell_type": "markdown",
   "id": "a93b8a4e",
   "metadata": {},
   "source": [
    "## Inputs\n",
    "The dataset was obtained from [Kaggle](https://www.kaggle.com/datasets/damienbeneschi/krakow-ta-restaurans-data-raw/data)"
   ]
  },
  {
   "cell_type": "markdown",
   "id": "acabf44c",
   "metadata": {},
   "source": [
    "## Outputs\n",
    "The cleaned csv file found [here]()"
   ]
  },
  {
   "cell_type": "markdown",
   "id": "31ce1b9c",
   "metadata": {},
   "source": [
    "# ETL Process\n",
    "\n",
    "- Load the dataset\n",
    "- Understand dataset structure and content\n",
    "- Clean the dataset\n",
    "- Convert data types\n",
    "- Add country column\n",
    "- Add cuisine counts column\n",
    "- Save the clean dataset as a csv file"
   ]
  },
  {
   "cell_type": "markdown",
   "id": "15ec6942",
   "metadata": {},
   "source": [
    "---"
   ]
  },
  {
   "cell_type": "markdown",
   "id": "0b736d0b",
   "metadata": {},
   "source": [
    "# Change working directory\n",
    "Change the working directory from its current folder to its parent folder as the notebooks will be stored in a subfolder\n",
    "* We access the current directory with os.getcwd()"
   ]
  },
  {
   "cell_type": "code",
   "execution_count": 3,
   "id": "903fba09",
   "metadata": {},
   "outputs": [
    {
     "data": {
      "text/plain": [
       "'c:\\\\Users\\\\amron\\\\Desktop\\\\euro-dine-insights\\\\jupyter_notebooks'"
      ]
     },
     "execution_count": 3,
     "metadata": {},
     "output_type": "execute_result"
    }
   ],
   "source": [
    "import os\n",
    "current_dir = os.getcwd()\n",
    "current_dir"
   ]
  },
  {
   "cell_type": "markdown",
   "id": "9bd9bf9c",
   "metadata": {},
   "source": [
    "Make the parent of the current directory the new current directory\n",
    "* os.path.dirname() gets the parent directory\n",
    "* os.chir() defines the new current directory"
   ]
  },
  {
   "cell_type": "code",
   "execution_count": 5,
   "id": "cea61730",
   "metadata": {},
   "outputs": [
    {
     "name": "stdout",
     "output_type": "stream",
     "text": [
      "You set a new current directory\n"
     ]
    }
   ],
   "source": [
    "os.chdir(os.path.dirname(current_dir))\n",
    "print(\"You set a new current directory\")"
   ]
  },
  {
   "cell_type": "markdown",
   "id": "d4884f2a",
   "metadata": {},
   "source": [
    "Confirm the new current directory"
   ]
  },
  {
   "cell_type": "code",
   "execution_count": 7,
   "id": "71ef2d68",
   "metadata": {},
   "outputs": [
    {
     "data": {
      "text/plain": [
       "'c:\\\\Users\\\\amron\\\\Desktop\\\\euro-dine-insights'"
      ]
     },
     "execution_count": 7,
     "metadata": {},
     "output_type": "execute_result"
    }
   ],
   "source": [
    "current_dir = os.getcwd()\n",
    "current_dir"
   ]
  },
  {
   "cell_type": "markdown",
   "id": "3c4f3d91",
   "metadata": {},
   "source": [
    "Changing path directory to the dataset"
   ]
  },
  {
   "cell_type": "code",
   "execution_count": 8,
   "id": "828aaf6e",
   "metadata": {},
   "outputs": [],
   "source": [
    "raw_data_dir = os.path.join(current_dir, 'data_set/raw') #path directory\n",
    "\n",
    "processed_data_dir = os.path.join(current_dir, 'data_set/processed') #path directory\n"
   ]
  },
  {
   "cell_type": "markdown",
   "id": "2279e71a",
   "metadata": {},
   "source": [
    "---"
   ]
  },
  {
   "cell_type": "markdown",
   "id": "cdff43f2",
   "metadata": {},
   "source": [
    "# Import packages"
   ]
  },
  {
   "cell_type": "code",
   "execution_count": 9,
   "id": "b8c19a98",
   "metadata": {},
   "outputs": [],
   "source": [
    "import numpy as np #import numpy\n",
    "import pandas as pd #import pandas\n",
    "import matplotlib.pyplot as plt #import matplotlib\n",
    "import seaborn as sns #import seaborn\n",
    "import plotly.express as px # import plotly\n",
    "sns.set_style('whitegrid') #set style for visuals"
   ]
  },
  {
   "cell_type": "markdown",
   "id": "dfdc6fac",
   "metadata": {},
   "source": [
    "---"
   ]
  },
  {
   "cell_type": "markdown",
   "id": "df384e8c",
   "metadata": {},
   "source": [
    "# Load the dataset"
   ]
  },
  {
   "cell_type": "code",
   "execution_count": 10,
   "id": "6d94433d",
   "metadata": {},
   "outputs": [],
   "source": [
    "#load the dataset\n",
    "import pandas as pd\n",
    "df = pd.read_csv(os.path.join(raw_data_dir, 'TA_restaurants_curated.csv'))"
   ]
  },
  {
   "cell_type": "markdown",
   "id": "322a4283",
   "metadata": {},
   "source": [
    "The raw dataset is loaded using Pandas for ETL process"
   ]
  },
  {
   "cell_type": "markdown",
   "id": "41067d23",
   "metadata": {},
   "source": [
    "---"
   ]
  }
 ],
 "metadata": {
  "kernelspec": {
   "display_name": ".venv",
   "language": "python",
   "name": "python3"
  },
  "language_info": {
   "codemirror_mode": {
    "name": "ipython",
    "version": 3
   },
   "file_extension": ".py",
   "mimetype": "text/x-python",
   "name": "python",
   "nbconvert_exporter": "python",
   "pygments_lexer": "ipython3",
   "version": "3.9.13"
  }
 },
 "nbformat": 4,
 "nbformat_minor": 5
}
